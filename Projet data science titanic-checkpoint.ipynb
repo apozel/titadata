{
 "cells": [
  {
   "source": [
    "# projet TITADATA \n",
    "ce projet vous est presenter par le GROUPE \n",
    "\n",
    "en premier voici les librairies que nous allons utiliser : \n",
    "(faire une listes des imports)\n",
    "\n",
    "maintenant qu'on en as parler importons les :"
   ],
   "cell_type": "markdown",
   "metadata": {}
  },
  {
   "cell_type": "code",
   "execution_count": null,
   "metadata": {},
   "outputs": [],
   "source": [
    "import numpy as np\n",
    "import pandas as pd\n",
    "\n",
    "from sklearn.svm import SVC\n",
    "from sklearn.ensemble import RandomForestClassifier\n",
    "from sklearn.linear_model import LogisticRegression\n",
    "from sklearn.metrics import classification_report\n",
    "\n",
    "import matplotlib.pyplot as plt\n",
    "import seaborn as sns"
   ]
  },
  {
   "source": [
    "maintenant passons aux datas, nous avons exactement deux fichiers aux formats csv : \n",
    "* un fichier sombrement nommé **train.csv** qui permettra d'entrainer nos modeles\n",
    "* un autre fichier qui lui nous permettra de tester ces memes modeles, cette fois nommé test.csv. \n",
    "\n",
    "\n",
    "bien sur vous trouverait ces deux fichiers dans data a la base du dossier ou nous somme actuellement. \n",
    "sinon vous pouvez les retouver sur https://www.kaggle.com/c/titanic/data\n",
    "### maintenant importons les :  "
   ],
   "cell_type": "markdown",
   "metadata": {}
  },
  {
   "cell_type": "code",
   "execution_count": null,
   "metadata": {},
   "outputs": [],
   "source": [
    "titanic_train_data = pd.read_csv('data/train.csv',sep=',',header = 0)\n",
    "titanic_test_data =pd.read_csv('data/test.csv',sep=',',header = 0) # import du fichier test qui servira à tester si une personne entre ou pris au hassard a survecu ou non"
   ]
  },
  {
   "source": [
    "### apres l'importation des fichiers de trains et de test, voyons de quoi on l'air nos données : "
   ],
   "cell_type": "markdown",
   "metadata": {}
  },
  {
   "cell_type": "code",
   "execution_count": null,
   "metadata": {},
   "outputs": [],
   "source": [
    "titanic_train_data.head(n=7)"
   ]
  },
  {
   "source": [
    " Affichage du nombre de classe et du pourcentage de survivant par classe  \n",
    "....nombre de personne decede en fonction de la classe qu'elle occupait sur le bateau"
   ],
   "cell_type": "markdown",
   "metadata": {}
  },
  {
   "cell_type": "code",
   "execution_count": null,
   "metadata": {},
   "outputs": [],
   "source": [
    "plt.hist(titanic_train_data['Pclass'], bins=3) \n",
    "plt.show()"
   ]
  },
  {
   "cell_type": "code",
   "execution_count": null,
   "metadata": {},
   "outputs": [],
   "source": [
    "# Nombre de personnes pour chaques classes (ticket)"
   ]
  },
  {
   "cell_type": "code",
   "execution_count": null,
   "metadata": {},
   "outputs": [],
   "source": [
    "titanic_train_data[\"Pclass\"].value_counts()"
   ]
  },
  {
   "source": [
    "### pourcentage de survivant en fonction de la classe...  \n",
    "\n",
    "comme nous pouvons le voir, la classe est un facteur important à prendre en compte dans l'étude"
   ],
   "cell_type": "markdown",
   "metadata": {}
  },
  {
   "cell_type": "code",
   "execution_count": null,
   "metadata": {},
   "outputs": [],
   "source": [
    "titanic_train_data[['Pclass', 'Survived']].groupby(['Pclass'], as_index=False).mean().sort_values(by='Survived', ascending=False)"
   ]
  },
  {
   "source": [
    "### survie en fonction du prix du billet "
   ],
   "cell_type": "markdown",
   "metadata": {}
  },
  {
   "cell_type": "code",
   "execution_count": null,
   "metadata": {},
   "outputs": [],
   "source": [
    "plt.figure ( figsize  = ( 20 , 8 ))\n",
    "survived_fare  =  titanic_train_data [ titanic_train_data [ 'Survived' ] ==  1 ] [ 'Fare' ]\n",
    "dead_fare      =  titanic_train_data [ titanic_train_data [ 'Survived' ] ==  0 ] [ 'Fare' ]\n",
    "plt.hist([survived_fare,dead_fare], bins=50, stacked=True, rwidth=0.8, color=['green', 'red'], label=['Survived', 'Dead'])\n",
    "\n",
    "plt.xlabel ( 'Tarif' )\n",
    "plt.ylabel ( 'Nombre de passagers' )\n",
    "plt.show()"
   ]
  },
  {
   "source": [
    "cela montre que les personnes qui avaient réservé des billets à bas prix sont les plus décédées"
   ],
   "cell_type": "markdown",
   "metadata": {}
  },
  {
   "source": [
    "montre clairement que les femmes ont survécu plus que les hommes  \n",
    "nombre de personnes decede en fonction du sex... donc le sex est un facteur important  \n"
   ],
   "cell_type": "markdown",
   "metadata": {}
  },
  {
   "cell_type": "code",
   "execution_count": null,
   "metadata": {},
   "outputs": [],
   "source": [
    "plt.hist(titanic_train_data['Sex'], bins=2) \n",
    "plt.show()"
   ]
  },
  {
   "source": [
    "....nombre de personne decede en fonction de la classe qu'elle occupait sur le bateau\n",
    "# todo : change color with each bins"
   ],
   "cell_type": "markdown",
   "metadata": {}
  },
  {
   "cell_type": "code",
   "execution_count": null,
   "metadata": {},
   "outputs": [],
   "source": [
    "plt.hist(titanic_train_data['Pclass'], bins=3) \n",
    "plt.show()"
   ]
  },
  {
   "source": [
    "### je nettoie et séléctionne celles qui me semble les plus pertinentes\n"
   ],
   "cell_type": "markdown",
   "metadata": {}
  },
  {
   "cell_type": "code",
   "execution_count": null,
   "metadata": {},
   "outputs": [],
   "source": [
    "embarked_to_number = {'C': 1, 'Q': 2,'S' : 3 }\n",
    "titanic_train_data['Embarked_to_number'] = titanic_train_data['Embarked'].map(embarked_to_number)\n",
    "\n",
    "sex_to_number={'male':1,'female':2}\n",
    "titanic_train_data['Sex_to_number'] = titanic_train_data['Sex'].map(sex_to_number)\n",
    "\n",
    "\n",
    "titanic_parameters = ['Fare','Age','Sex_to_number','Embarked_to_number','Pclass','Survived']\n",
    "titanic_data_selected_to_clean = titanic_train_data[titanic_parameters]\n",
    "titanic_data_cleaned_no_nan = titanic_data_selected_to_clean.dropna()\n",
    "\n",
    "\n",
    "titanic_parameters = ['Fare','Age','Sex_to_number','Embarked_to_number','Pclass']\n",
    "titanic_train_data_selected_no_nan = titanic_data_cleaned_no_nan[titanic_parameters]\n",
    "titanic_train_data_survived = titanic_data_cleaned_no_nan['Survived']\n"
   ]
  },
  {
   "source": [
    "### je créer mon modèle"
   ],
   "cell_type": "markdown",
   "metadata": {}
  },
  {
   "cell_type": "code",
   "execution_count": null,
   "metadata": {},
   "outputs": [],
   "source": [
    "sklearn_LogisticRegression = LogisticRegression(max_iter=100)\n",
    "sklearn_SVC = SVC(kernel = 'linear', C=1)"
   ]
  },
  {
   "source": [
    "### J'apprend sur les données"
   ],
   "cell_type": "markdown",
   "metadata": {}
  },
  {
   "cell_type": "code",
   "execution_count": null,
   "metadata": {},
   "outputs": [],
   "source": [
    "sklearn_SVC.fit(titanic_train_data_selected_no_nan,titanic_train_data_survived)\n",
    "sklearn_LogisticRegression.fit(titanic_train_data_selected_no_nan, titanic_train_data_survived)"
   ]
  },
  {
   "source": [
    "### Je prédis:"
   ],
   "cell_type": "markdown",
   "metadata": {}
  },
  {
   "cell_type": "code",
   "execution_count": null,
   "metadata": {},
   "outputs": [],
   "source": [
    "predicted_titanic_train_data_survived = sklearn_SVC.predict(titanic_train_data_selected_no_nan)\n",
    "predicted_titanic_train_data_survived_logistic = sklearn_LogisticRegression.predict(titanic_train_data_selected_no_nan)"
   ]
  },
  {
   "source": [
    "### Je mesure la qualité de ma prédiction\n",
    "Resultats SVC:  \n",
    "print(\"Resultats régression logistique\")\n"
   ],
   "cell_type": "markdown",
   "metadata": {}
  },
  {
   "cell_type": "code",
   "execution_count": null,
   "metadata": {},
   "outputs": [],
   "source": [
    "print(classification_report(titanic_train_data_survived, predicted_titanic_train_data_survived))"
   ]
  },
  {
   "source": [
    "### utilisation d'un autre modele pour prédire\n",
    "\n",
    "#### prediction en utilisant une classification aléatoire"
   ],
   "cell_type": "markdown",
   "metadata": {}
  },
  {
   "cell_type": "code",
   "execution_count": null,
   "metadata": {},
   "outputs": [],
   "source": [
    "\n",
    "y = titanic_train_data[\"Survived\"]\n",
    "\n",
    "features = [\"Pclass\", \"Sex\", \"SibSp\", \"Parch\"]\n",
    "X = pd.get_dummies(titanic_train_data[features])\n",
    "X_test = pd.get_dummies(titanic_test_data[features])\n",
    "\n",
    "model = RandomForestClassifier(n_estimators=100, max_depth=5, random_state=1)\n",
    "model.fit(X, y)\n",
    "predictions = model.predict(X_test)\n",
    "\n",
    "output = pd.DataFrame({'PassengerId' : titanic_test_data.PassengerId , 'Survived': predictions})\n",
    "output = pd.DataFrame({'Name' : titanic_test_data.Name , 'Survived': predictions})\n",
    "\n",
    "print(\"Resultats classification aléatoire\")\n",
    "\n",
    "print(output)\n"
   ]
  },
  {
   "source": [
    "Etude du nombre de survivant en fonction de l'âge (code)\n",
    "Fréquence de personnes ayant survécu ou non par rapport à leur âge\n",
    "Nous pouvons donc constater qu'une grande partie des personnes ayant un âge compris entre 0 et environ 16 ans ont survécu.\n",
    "Nous pouvons également apercevoir qu’une plus grande partie des personnes ayant 20 ans n'ont pas survécu. \n",
    "De plus, nous constatons que les personnes qui ont plus de 60 ans n'ont pas survécu aussi...\n",
    "\n",
    "de cette etude,nous pouvons donc en déduire que les enfants âgées de 0 à 16 ansont le plus survécue\n",
    "\n",
    "les jeunes qui seraient âgés de 16 à 30 ans n'ont pas survécu\n",
    "\n",
    "les personnes de plus de 60 ans donc les vieux n'ont pas également  survécu"
   ],
   "cell_type": "markdown",
   "metadata": {}
  },
  {
   "cell_type": "code",
   "execution_count": null,
   "metadata": {},
   "outputs": [],
   "source": [
    "g = sns.kdeplot(titanic_train_data[\"Age\"][(titanic_train_data[\"Survived\"] == 0) & (titanic_train_data[\"Age\"].notnull())], color=\"Red\", shade = True)\n",
    "g = sns.kdeplot(titanic_train_data[\"Age\"][(titanic_train_data[\"Survived\"] == 1) & (titanic_train_data[\"Age\"].notnull())], ax =g, color=\"Blue\", shade= True)\n",
    "g.set_xlabel(\"Age\")\n",
    "g.set_ylabel(\"Frequency\")\n",
    "g = g.legend([\"Not Survived\",\"Survived\"]) # pour une meilleur compréhension du diagramme"
   ]
  },
  {
   "source": [
    "a faire :  \n",
    "- [] presentation du concours\n",
    "- [] presentation de ce qu'on attends\n",
    "- [] faire l'analyse des datas \n",
    "- [] presentation des models. \n",
    "- [] faire les predictions avec le modele le plus concluant. \n",
    "- [] faire les conclusion (corelations) avec les datas de tests \n",
    "- [] conclusions generales \n",
    "- [] titre tableaux "
   ],
   "cell_type": "markdown",
   "metadata": {}
  }
 ],
 "metadata": {
  "kernelspec": {
   "name": "python3",
   "display_name": "Python 3.8.5 64-bit ('bigdata': venv)",
   "metadata": {
    "interpreter": {
     "hash": "7d33686c2662a294778779660902c82593db0a99c63a9f24bb77cd25c6a7b36a"
    }
   }
  },
  "language_info": {
   "codemirror_mode": {
    "name": "ipython",
    "version": 3
   },
   "file_extension": ".py",
   "mimetype": "text/x-python",
   "name": "python",
   "nbconvert_exporter": "python",
   "pygments_lexer": "ipython3",
   "version": "3.8.5-final"
  }
 },
 "nbformat": 4,
 "nbformat_minor": 4
}