{
 "cells": [
  {
   "source": [
    "# projet TITADATA\n",
    "\n",
    "## introduction\n",
    " \n",
    "ce projet vous est presenter par le GROUPE \n",
    "\n",
    "en premier voici les librairies que nous allons utiliser : \n",
    "(faire une listes des imports)\n",
    "\n",
    "maintenant qu'on en as parler importons les :"
   ],
   "cell_type": "markdown",
   "metadata": {}
  },
  {
   "source": [
    "## definition du problème :"
   ],
   "cell_type": "markdown",
   "metadata": {}
  },
  {
   "cell_type": "code",
   "execution_count": null,
   "metadata": {},
   "outputs": [],
   "source": [
    "import numpy as np\n",
    "import pandas as pd\n",
    "\n",
    "from sklearn.svm import SVC\n",
    "from sklearn.ensemble import RandomForestClassifier\n",
    "from sklearn.linear_model import LogisticRegression\n",
    "from sklearn.metrics import classification_report\n",
    "from sklearn.linear_model import Perceptron\n",
    "from sklearn.tree import DecisionTreeClassifier\n",
    "\n",
    "import matplotlib.pyplot as plt\n",
    "import seaborn as sns\n",
    "\n",
    "import time"
   ]
  },
  {
   "source": [
    "## importations des datas  \n",
    "\n",
    "\n",
    "maintenant passons aux datas, nous avons exactement deux fichiers aux formats csv : \n",
    "* un fichier sombrement nommé **train.csv** qui permettra d'entrainer nos modeles\n",
    "* un autre fichier qui lui nous permettra de tester ces memes modeles, cette fois nommé **test.csv**. \n",
    "\n",
    "\n",
    "bien sur vous trouverait ces deux fichiers dans data a la base du dossier ou nous somme actuellement. \n",
    "sinon vous pouvez les retouver sur https://www.kaggle.com/c/titanic/data\n",
    "### maintenant importons les :  "
   ],
   "cell_type": "markdown",
   "metadata": {}
  },
  {
   "cell_type": "code",
   "execution_count": null,
   "metadata": {},
   "outputs": [],
   "source": [
    "titanic_train_data = pd.read_csv('data/train.csv',sep=',',header = 0)\n",
    "titanic_test_data =pd.read_csv('data/test.csv',sep=',',header = 0) "
   ]
  },
  {
   "source": [
    "## modelisations des données  \n",
    "\n",
    "\n",
    "apres l'importation des fichiers de trains et de test, voyons de quoi on l'air nos données : "
   ],
   "cell_type": "markdown",
   "metadata": {}
  },
  {
   "cell_type": "code",
   "execution_count": null,
   "metadata": {},
   "outputs": [],
   "source": [
    "titanic_train_data.info()"
   ]
  },
  {
   "source": [
    "on peut voir que l'on as plus de 891 entrée dans le fichier de test.   \n",
    "on constate aussi que l'on a 11 champs pour chaque entrée.  \n"
   ],
   "cell_type": "markdown",
   "metadata": {}
  },
  {
   "cell_type": "code",
   "execution_count": null,
   "metadata": {},
   "outputs": [],
   "source": [
    "titanic_test_data.info()"
   ]
  },
  {
   "source": [
    "le fichier de test quand a lui est plus petit.  \n",
    "on a moins de champs par entrée, ce qui est coherant puisqu'il nous manque le champ **Survived**, qui est justement le champ qu'on veut trouver.  \n",
    "maintenant voyons la forme de chaque champs :"
   ],
   "cell_type": "markdown",
   "metadata": {}
  },
  {
   "cell_type": "code",
   "execution_count": null,
   "metadata": {},
   "outputs": [],
   "source": [
    "titanic_train_data.head()"
   ]
  },
  {
   "source": [
    "dans les données de train on a donc les informations suivantes : \n",
    "* le **PassengerId** qui est l'identifiant du passager.\n",
    "* **Survived** qui est l'indication de si le passager a survecu (uniquement sur les données de train du coup) il est sous forme numerique (0 la personne a péri, 1 elle a survecu)\n",
    "* **Pclass** correspond a la class du passager. il y en a 3 differente sur le bateau (1=Premiere classe,2=Seconde classe,3=Troisieme classe).\n",
    "* **Name** celui la est sufficament explicite. \n",
    "* **Sex** est le genre de la personne. il s'agit d'un string, il va donc falloir le transformer en valeur numerique. \n",
    "* **Age** explicite.\n",
    "* **SibSp** nombre de freres/soeurs ou epoux/epouses presents.\n",
    "* **Parch** nombre de parents/enfants sur le bateaux avec eux. \n",
    "* **Ticket** numero du ticket.\n",
    "* **Fare** prix du ticket.\n",
    "* **Cabin** numero de la cabine. **remarque** : si le passager est dans la 3 eme classe il n'a pas de cabine.\n",
    "* **Embarked** port ou il embarquer. (C = Cherbourg, Q = Queenstown, S = Southampton)"
   ],
   "cell_type": "markdown",
   "metadata": {}
  },
  {
   "cell_type": "code",
   "execution_count": null,
   "metadata": {},
   "outputs": [],
   "source": [
    "titanic_train_data.describe()"
   ]
  },
  {
   "source": [
    "todo : describe les values au dessus. traduire : \n",
    "\n",
    "\n",
    "These are a few statistics that give some perspective on the nature of the distribution of the data.\n",
    "\n",
    "   * mean is the average and is the \"expected\" value of the distribution. On average, you'd expect to get this number.\n",
    "\n",
    "   * std tells you how big of swings the data takes relative to the mean. Specifically, its the mean squared deviation from the mean.\n",
    "\n",
    "   * 50% is also the median and it's difference from the mean gives information on the skew of the distribution. It's also another definition of average that is robust to outliers in the data.\n",
    "\n",
    "   * 25% & 75% give perspective on the kurtosis. Also, all percentile numbers are generally more robust to outliers.\n",
    "\n",
    "   * min, max, max - min, 75% - 25% are all alternatives to perspectives on how big of swings the data takes relative to the mean\n",
    "\n",
    "   * count the larger this number, the more credibility all the stats have \n",
    "\n",
    "\n",
    "on a donc 38% de survie sur tout les passagers. on voit aussi que le prix moyen du billet est de 32 livres. que la majorité des gens sont dans la 3 classes (+de 50%)."
   ],
   "cell_type": "markdown",
   "metadata": {}
  },
  {
   "source": [
    "Affichage du nombre de classe et du pourcentage de survivant par classe  \n",
    "nombre de personne decede en fonction de la classe qu'elle occupait sur le bateau"
   ],
   "cell_type": "markdown",
   "metadata": {}
  },
  {
   "cell_type": "code",
   "execution_count": null,
   "metadata": {},
   "outputs": [],
   "source": [
    "Pclass = titanic_train_data['Pclass'].value_counts();\n",
    "print(Pclass);\n",
    "plt.figure();\n",
    "plt.title('distribution personne dans les differentes classe');\n",
    "Pclass.plot.pie(autopct=\"%.0f\");\n"
   ]
  },
  {
   "source": [
    "on voit que la majorité des gens sont dans les classes les plus basse mais il y a quand meme plus de gens en premiere que seconde classe.\n",
    "\n",
    "### regardons maintenant pour les champs qui sont pas des valeurs numeraire :"
   ],
   "cell_type": "markdown",
   "metadata": {}
  },
  {
   "cell_type": "code",
   "execution_count": null,
   "metadata": {},
   "outputs": [],
   "source": [
    "titanic_train_data.describe(include=['O'])"
   ]
  },
  {
   "cell_type": "code",
   "execution_count": null,
   "metadata": {},
   "outputs": [],
   "source": [
    "Sex = titanic_train_data['Sex'].value_counts();\n",
    "print(Sex);\n",
    "plt.figure();\n",
    "plt.title('distribution genre des passagers');\n",
    "Sex.plot.pie(autopct=\"%.0f\");"
   ]
  },
  {
   "source": [
    "   * Names are unique across the dataset (count=unique=891)\n",
    "   * Sex variable as two possible values with 65% male (top=male, freq=577/count=891).\n",
    "   * Cabin values have several dupicates across samples. Alternatively several passengers shared a cabin.\n",
    "   * Embarked takes three possible values. S port used by most passengers (top=S)\n",
    "   * Ticket feature has high ratio (22%) of duplicate values (unique=681).\n",
    "\n"
   ],
   "cell_type": "markdown",
   "metadata": {}
  },
  {
   "source": [
    "## maintenant voyons voir quel sont les correlations avec la survie des gens. \n",
    "### pourcentage de survivant en fonction de la classe...  \n",
    "\n",
    "comme nous pouvons le voir, la classe est un facteur important à prendre en compte dans l'étude"
   ],
   "cell_type": "markdown",
   "metadata": {}
  },
  {
   "cell_type": "code",
   "execution_count": null,
   "metadata": {},
   "outputs": [],
   "source": [
    "print(titanic_train_data[['Pclass', 'Survived']].groupby(['Pclass'], as_index=False).mean().sort_values(by='Survived', ascending=False))\n",
    "plt.figure(figsize=(20, 4 ))\n",
    "survived_rate  =  titanic_train_data [ titanic_train_data [ 'Survived' ] ==  1 ] [ 'Pclass' ]\n",
    "dead_rate      =  titanic_train_data [ titanic_train_data [ 'Survived' ] ==  0 ] [ 'Pclass' ]\n",
    "plt.hist([survived_rate,dead_rate], bins=50, stacked=True, rwidth=0.8, color=['green', 'red'], label=['Survived', 'Dead'])\n",
    "plt.title('survie en fonction de la classe')\n",
    "plt.xlabel ( 'Tarif' )\n",
    "plt.ylabel ( 'Nombre de passagers' )\n",
    "plt.show()"
   ]
  },
  {
   "source": [
    "### survie en fonction du prix du billet "
   ],
   "cell_type": "markdown",
   "metadata": {}
  },
  {
   "cell_type": "code",
   "execution_count": null,
   "metadata": {},
   "outputs": [],
   "source": [
    "plt.figure ( figsize  = ( 20 , 4 ))\n",
    "survived_rate  =  titanic_train_data [ titanic_train_data [ 'Survived' ] ==  1 ] [ 'Fare' ]\n",
    "dead_rate      =  titanic_train_data [ titanic_train_data [ 'Survived' ] ==  0 ] [ 'Fare' ]\n",
    "plt.hist([survived_rate,dead_rate], bins=50, stacked=True, rwidth=0.8, color=['green', 'red'], label=['Survived', 'Dead'])\n",
    "plt.title('survie en fonction du prix du billet')\n",
    "plt.xlabel ( 'Tarif' )\n",
    "plt.ylabel ( 'Nombre de passagers' )\n",
    "plt.show()"
   ]
  },
  {
   "source": [
    "cela montre que les personnes qui avaient réservé des billets à bas prix sont les plus décédées"
   ],
   "cell_type": "markdown",
   "metadata": {}
  },
  {
   "cell_type": "code",
   "execution_count": null,
   "metadata": {},
   "outputs": [],
   "source": [
    "print(titanic_train_data[['Sex', 'Survived']].groupby(['Sex'], as_index=False).mean().sort_values(by='Survived', ascending=False))\n",
    "plt.figure(figsize  = ( 10 , 4 ))\n",
    "survived_rate  =  titanic_train_data [ titanic_train_data [ 'Survived' ] ==  1 ] [ 'Sex' ]\n",
    "dead_rate      =  titanic_train_data [ titanic_train_data [ 'Survived' ] ==  0 ] [ 'Sex' ]\n",
    "plt.hist([survived_rate,dead_rate], bins=2, stacked=True, rwidth=0.8, color=['green', 'red'], label=['Survived', 'Dead'])\n",
    "plt.title('survie en fonction du genre de la personne')\n",
    "plt.xlabel('genre' )\n",
    "plt.ylabel ( 'Nombre de passagers' )\n",
    "plt.show()"
   ]
  },
  {
   "cell_type": "code",
   "execution_count": null,
   "metadata": {},
   "outputs": [],
   "source": [
    "SibSp = titanic_train_data[[\"SibSp\", \"Survived\"]].groupby(['SibSp'], as_index=False).mean().sort_values(by='Survived', ascending=False)\n",
    "print(SibSp)\n",
    "plt.figure();\n",
    "SibSp.plot.bar(stacked=True);\n",
    "plt.title('survie en fonction du nombre de freres/soeurs/epouse/marie');\n",
    "plt.show()\n",
    "\n"
   ]
  },
  {
   "cell_type": "code",
   "execution_count": null,
   "metadata": {},
   "outputs": [],
   "source": [
    "Parch = titanic_train_data[[\"Parch\", \"Survived\"]].groupby(['Parch'], as_index=False).mean().sort_values(by='Survived', ascending=False)\n",
    "print(Parch)\n",
    "\n",
    "plt.figure();\n",
    "Parch.plot.bar(stacked=True);\n",
    "plt.title('survie en fonction du nombre de parent');\n",
    "plt.show()"
   ]
  },
  {
   "cell_type": "code",
   "execution_count": null,
   "metadata": {},
   "outputs": [],
   "source": [
    "plt.figure ( figsize  = ( 20 , 4 ))\n",
    "survived_rate  =  titanic_train_data [ titanic_train_data [ 'Survived' ] ==  1 ] [ 'Age' ]\n",
    "dead_rate      =  titanic_train_data [ titanic_train_data [ 'Survived' ] ==  0 ] [ 'Age' ]\n",
    "plt.hist([survived_rate,dead_rate], bins=50, stacked=True, rwidth=0.8, color=['green', 'red'], label=['Survived', 'Dead'])\n",
    "plt.title('survie en fonction de l\\'age')\n",
    "plt.xlabel ( 'Age' )\n",
    "plt.ylabel ( 'Nombre de passagers' )\n",
    "plt.show()\n",
    "\n",
    "comparaisonAge = sns.FacetGrid(titanic_train_data, col='Survived')\n",
    "comparaisonAge.map(plt.hist, 'Age', bins=20);"
   ]
  },
  {
   "cell_type": "code",
   "execution_count": null,
   "metadata": {},
   "outputs": [],
   "source": [
    "g = sns.kdeplot(titanic_train_data[\"Age\"][(titanic_train_data[\"Survived\"] == 0) & (titanic_train_data[\"Age\"].notnull())], color=\"Red\", shade = True)\n",
    "g = sns.kdeplot(titanic_train_data[\"Age\"][(titanic_train_data[\"Survived\"] == 1) & (titanic_train_data[\"Age\"].notnull())], ax =g, color=\"Blue\", shade= True)\n",
    "g.set_xlabel(\"Age\")\n",
    "g.set_ylabel(\"Frequency\")\n",
    "g = g.legend([\"Not Survived\",\"Survived\"]) # pour une meilleur compréhension du diagramme"
   ]
  },
  {
   "source": [
    "Etude du nombre de survivant en fonction de l'âge (code)\n",
    "Fréquence de personnes ayant survécu ou non par rapport à leur âge\n",
    "Nous pouvons donc constater qu'une grande partie des personnes ayant un âge compris entre 0 et environ 16 ans ont survécu.\n",
    "Nous pouvons également apercevoir qu’une plus grande partie des personnes ayant 20 ans n'ont pas survécu. \n",
    "De plus, nous constatons que les personnes qui ont plus de 60 ans n'ont pas survécu aussi...\n",
    "\n",
    "de cette etude,nous pouvons donc en déduire que les enfants âgées de 0 à 16 ansont le plus survécue\n",
    "\n",
    "les jeunes qui seraient âgés de 16 à 30 ans n'ont pas survécu\n",
    "\n",
    "les personnes de plus de 60 ans donc les vieux n'ont pas également  survécu"
   ],
   "cell_type": "markdown",
   "metadata": {}
  },
  {
   "source": [
    "montre clairement que les femmes ont survécu plus que les hommes  \n",
    "nombre de personnes decede en fonction du sex... donc le sex est un facteur important  \n"
   ],
   "cell_type": "markdown",
   "metadata": {}
  },
  {
   "source": [
    "### je nettoie et séléctionne celles qui me semble les plus pertinentes\n"
   ],
   "cell_type": "markdown",
   "metadata": {}
  },
  {
   "cell_type": "code",
   "execution_count": null,
   "metadata": {},
   "outputs": [],
   "source": [
    "embarked_to_number = {'C': 1, 'Q': 2,'S' : 3 }\n",
    "titanic_train_data['Embarked_to_number'] = titanic_train_data['Embarked'].map(embarked_to_number)\n",
    "\n",
    "sex_to_number={'male':1,'female':2}\n",
    "titanic_train_data['Sex_to_number'] = titanic_train_data['Sex'].map(sex_to_number)\n",
    "\n",
    "\n",
    "titanic_parameters = ['Fare','Age','Sex_to_number','Embarked_to_number','Pclass','Survived']\n",
    "titanic_data_selected_to_clean = titanic_train_data[titanic_parameters]\n",
    "titanic_data_cleaned_no_nan = titanic_data_selected_to_clean.dropna()\n",
    "\n",
    "titanic_data_cleaned_no_nan.head()\n",
    "\n",
    "\n"
   ]
  },
  {
   "cell_type": "code",
   "execution_count": null,
   "metadata": {},
   "outputs": [],
   "source": [
    "colormap = plt.cm.RdBu\n",
    "plt.figure(figsize=(14,12))\n",
    "plt.title('Pearson Correlation of Features', y=1.05, size=15)\n",
    "sns.heatmap(titanic_data_cleaned_no_nan.astype(float).corr(),linewidths=0.1,vmax=1.0, \n",
    "            square=True, cmap=colormap, linecolor='white', annot=True)"
   ]
  },
  {
   "source": [
    "on en est la avec les mesures de base voyons si on ne peut pas ajouter des features par nous memes "
   ],
   "cell_type": "markdown",
   "metadata": {}
  },
  {
   "cell_type": "code",
   "execution_count": null,
   "metadata": {},
   "outputs": [],
   "source": [
    "\n",
    "titanic_parameters = ['Fare','Age','Sex_to_number','Embarked_to_number','Pclass']\n",
    "titanic_train_data_selected_no_nan = titanic_data_cleaned_no_nan[titanic_parameters]\n",
    "titanic_train_data_survived = titanic_data_cleaned_no_nan['Survived']\n",
    "\n",
    "X_train = titanic_data_cleaned_no_nan.drop(\"Survived\", axis=1)\n",
    "Y_train = titanic_data_cleaned_no_nan[\"Survived\"]\n",
    "X_test  = titanic_test_data.drop(\"PassengerId\", axis=1).copy()\n",
    "X_train.shape, Y_train.shape, X_test.shape"
   ]
  },
  {
   "source": [
    "### je créer mon modèle"
   ],
   "cell_type": "markdown",
   "metadata": {}
  },
  {
   "cell_type": "code",
   "execution_count": null,
   "metadata": {},
   "outputs": [],
   "source": [
    "start_time = time.time()\n",
    "sklearn_SVC = SVC(kernel = 'linear', C=1)\n",
    "sklearn_SVC.fit(X_train,Y_train);\n",
    "predicted_titanic_train_data_survived = sklearn_SVC.predict(titanic_train_data_selected_no_nan)\n",
    "acc_svc = round(sklearn_SVC.score(titanic_train_data_selected_no_nan,titanic_train_data_survived) * 100, 2)\n",
    "print(\"svc :\")\n",
    "print(acc_svc)\n",
    "time_svc = (time.time() - start_time);\n",
    "print(\"in %s seconds\" % time_svc)"
   ]
  },
  {
   "source": [
    "### J'apprend sur les données"
   ],
   "cell_type": "markdown",
   "metadata": {}
  },
  {
   "cell_type": "code",
   "execution_count": null,
   "metadata": {},
   "outputs": [],
   "source": [
    "start_time = time.time()\n",
    "sklearn_LogisticRegression = LogisticRegression(max_iter=100)\n",
    "sklearn_LogisticRegression.fit(X_train,Y_train);\n",
    "predicted_titanic_train_data_survived_logistic = sklearn_LogisticRegression.predict(titanic_train_data_selected_no_nan)\n",
    "time_logisticRegression = (time.time() - start_time);\n",
    "print(\"Resultats régression logistique\")\n",
    "acc_logisticRegression = round(sklearn_LogisticRegression.score(titanic_train_data_selected_no_nan,titanic_train_data_survived) * 100, 2)\n",
    "print( acc_logisticRegression)\n",
    "print(\"in %s seconds\" % time_logisticRegression)"
   ]
  },
  {
   "source": [
    "### Je mesure la qualité de ma prédiction\n"
   ],
   "cell_type": "markdown",
   "metadata": {}
  },
  {
   "source": [
    "### utilisation d'un autre modele pour prédire\n",
    "\n",
    "#### prediction en utilisant une classification aléatoire"
   ],
   "cell_type": "markdown",
   "metadata": {}
  },
  {
   "cell_type": "code",
   "execution_count": null,
   "metadata": {},
   "outputs": [],
   "source": [
    "\n",
    "y = titanic_train_data[\"Survived\"]\n",
    "\n",
    "features = [\"Pclass\", \"Sex\", \"SibSp\", \"Parch\"]\n",
    "X = pd.get_dummies(titanic_train_data[features])\n",
    "X_test = pd.get_dummies(titanic_test_data[features])\n",
    "start_time = time.time()\n",
    "model = RandomForestClassifier(n_estimators=100, max_depth=5, random_state=1)\n",
    "model.fit(X, y)\n",
    "predictions = model.predict(titanic_train_data_selected_no_nan)\n",
    "time_RandomForest = (time.time() - start_time);\n",
    "acc_RandomForest = round(model.score(titanic_train_data_selected_no_nan,titanic_train_data_survived) * 100, 2)\n",
    "\n",
    "print(\"Resultats classification aléatoire\")\n",
    "print(acc_RandomForest)\n",
    "print(\"in %s seconds\" % time_logisticRegression)\n"
   ]
  },
  {
   "cell_type": "code",
   "execution_count": null,
   "metadata": {},
   "outputs": [],
   "source": [
    "perceptron = Perceptron()\n",
    "start_time = time.time()\n",
    "perceptron.fit(X_train, Y_train)\n",
    "Y_pred = perceptron.predict(X_test)\n",
    "time_perceptron = (time.time() - start_time);\n",
    "acc_perceptron = round(perceptron.score(X_train, Y_train) * 100, 2)\n",
    "print('resultat perceptron : %f '%acc_perceptron)\n",
    "print(\"in %s seconds\" % time_perceptron)"
   ]
  },
  {
   "cell_type": "code",
   "execution_count": null,
   "metadata": {},
   "outputs": [],
   "source": [
    "decision_tree = DecisionTreeClassifier()\n",
    "start_time = time.time()\n",
    "decision_tree.fit(X_train, Y_train)\n",
    "Y_pred = decision_tree.predict(X_test)\n",
    "time_decision_tree = (time.time() - start_time);\n",
    "acc_decision_tree = round(decision_tree.score(X_train, Y_train) * 100, 2)\n",
    "print('resultat decision tree : %f' %acc_decision_tree)\n",
    "print('en %f secondes '%time_decision_tree)\n"
   ]
  },
  {
   "source": [
    "### comparaison des models :"
   ],
   "cell_type": "markdown",
   "metadata": {}
  },
  {
   "cell_type": "code",
   "execution_count": null,
   "metadata": {},
   "outputs": [],
   "source": [
    "models = pd.DataFrame({\n",
    "    'Model': ['Support Vector Machines', 'Logistic Regression', \n",
    "              'Random Forest',  'Perceptron','Decision Tree'],\n",
    "    'Score': [acc_svc, acc_logisticRegression,\n",
    "              acc_RandomForest, acc_perceptron, acc_decision_tree],\n",
    "              'Time':[time_svc, time_logisticRegression,\n",
    "              time_RandomForest, time_perceptron, time_decision_tree]})\n",
    "models.sort_values(by='Score', ascending=False)"
   ]
  },
  {
   "source": [
    "### Submission "
   ],
   "cell_type": "markdown",
   "metadata": {}
  },
  {
   "cell_type": "code",
   "execution_count": null,
   "metadata": {},
   "outputs": [],
   "source": [
    "submission = pd.DataFrame({\n",
    "        \"PassengerId\": test_df[\"PassengerId\"],\n",
    "        \"Survived\": Y_pred\n",
    "    })"
   ]
  },
  {
   "source": [
    "a faire :  \n",
    "- [] presentation du concours\n",
    "- [] presentation de ce qu'on attends\n",
    "- [] faire l'analyse des datas \n",
    "- [] presentation des models. \n",
    "- [] faire les predictions avec le modele le plus concluant. \n",
    "- [] faire les conclusion (corelations) avec les datas de tests \n",
    "- [] conclusions generales \n",
    "- [] titre tableaux "
   ],
   "cell_type": "markdown",
   "metadata": {}
  }
 ],
 "metadata": {
  "kernelspec": {
   "name": "python3",
   "display_name": "Python 3",
   "language": "python"
  },
  "language_info": {
   "codemirror_mode": {
    "name": "ipython",
    "version": 3
   },
   "file_extension": ".py",
   "mimetype": "text/x-python",
   "name": "python",
   "nbconvert_exporter": "python",
   "pygments_lexer": "ipython3",
   "version": "3.8.5-final"
  }
 },
 "nbformat": 4,
 "nbformat_minor": 4
}