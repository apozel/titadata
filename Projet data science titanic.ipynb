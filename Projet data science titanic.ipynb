{
 "cells": [
  {
   "source": [
    "# projet data sciences : le titanic "
   ],
   "cell_type": "markdown",
   "metadata": {}
  },
  {
   "source": [
    "## importation des biblioteques :"
   ],
   "cell_type": "markdown",
   "metadata": {}
  },
  {
   "cell_type": "code",
   "execution_count": null,
   "metadata": {},
   "outputs": [],
   "source": [
    "import numpy as np\n",
    "import pandas as pd\n",
    "import matplotlib.pyplot as plt\n",
    "from sklearn.svm import SVC"
   ]
  },
  {
   "source": [
    "## on commence par l'importation des valeurs :\n",
    "import du fichier test qui servira à tester si une personne entre ou pris au hassard a survecu ou non"
   ],
   "cell_type": "markdown",
   "metadata": {}
  },
  {
   "source": [
    "todo : add visualization of the raw data "
   ],
   "cell_type": "markdown",
   "metadata": {}
  },
  {
   "cell_type": "code",
   "execution_count": null,
   "metadata": {},
   "outputs": [],
   "source": [
    "titanic_train_data = pd.read_csv('data/train.csv',sep=',',header = 0)\n",
    "titanic_test_data =pd.read_csv('data/test.csv',sep=',',header = 0)\n",
    "\n",
    "titanic_train_data.head(n=7)"
   ]
  },
  {
   "source": [
    "\n",
    " je les étudies (graphs, statistiques, signification, ...) c'est à dire pour afficher\n",
    "\n",
    "  montre clairement que les femmes ont survécu plus que les hommes\n",
    "\n",
    "  # nombre de personnes decede en fonction du sex"
   ],
   "cell_type": "markdown",
   "metadata": {}
  },
  {
   "cell_type": "code",
   "execution_count": null,
   "metadata": {},
   "outputs": [],
   "source": [
    "plt.hist(titanic_train_data['Sex'], bins=2) \n",
    "plt.show()"
   ]
  },
  {
   "cell_type": "code",
   "execution_count": null,
   "metadata": {},
   "outputs": [],
   "source": [
    "#....nombre de personne decede en fonction de la classe qu'elle occupait sur le bateau\n",
    "\n",
    "plt.hist(titanic_train_data['Pclass'], bins=3) \n",
    "plt.show()"
   ]
  },
  {
   "cell_type": "code",
   "execution_count": null,
   "metadata": {},
   "outputs": [],
   "source": [
    "# je nettoie et séléctionne celles qui me semble les plus pertinentes\n",
    "embarked_to_number = {'C': 1, 'Q': 2,'S' : 3 }\n",
    "titanic_train_data['Embarked_to_number'] = titanic_train_data['Embarked'].map(embarked_to_number)\n",
    "\n",
    "sex_to_number={'male':1,'female':2}\n",
    "titanic_train_data['Sex_to_number'] = titanic_train_data['Sex'].map(sex_to_number)\n",
    "\n",
    "\n",
    "titanic_parameters = ['Fare','Age','Sex_to_number','Embarked_to_number','Pclass','Survived']\n",
    "titanic_data_selected_to_clean = titanic_train_data[titanic_parameters]\n",
    "titanic_data_cleaned_no_nan = titanic_data_selected_to_clean.dropna()\n",
    "\n",
    "\n",
    "titanic_parameters = ['Fare','Age','Sex_to_number','Embarked_to_number','Pclass']\n",
    "titanic_train_data_selected_no_nan = titanic_data_cleaned_no_nan[titanic_parameters]\n",
    "titanic_train_data_survived = titanic_data_cleaned_no_nan['Survived']\n",
    "\n"
   ]
  },
  {
   "cell_type": "code",
   "execution_count": null,
   "metadata": {},
   "outputs": [],
   "source": [
    "# je créer mon modèle\n",
    "from sklearn.linear_model import LogisticRegression\n",
    "sklearn_LogisticRegression = LogisticRegression(max_iter=100)\n",
    "\n",
    "\n",
    "sklearn_SVC = SVC(kernel = 'linear', C=1)\n"
   ]
  },
  {
   "cell_type": "code",
   "execution_count": null,
   "metadata": {},
   "outputs": [],
   "source": [
    "# J'apprend sur les données\n",
    "sklearn_SVC.fit(titanic_train_data_selected_no_nan,titanic_train_data_survived)\n",
    "\n",
    "sklearn_LogisticRegression.fit(titanic_train_data_selected_no_nan, titanic_train_data_survived)\n",
    "\n",
    "\n",
    "# Je prédis\n",
    "predicted_titanic_train_data_survived = sklearn_SVC.predict(titanic_train_data_selected_no_nan)\n",
    "predicted_titanic_train_data_survived_logistic = sklearn_LogisticRegression.predict(titanic_train_data_selected_no_nan)"
   ]
  },
  {
   "cell_type": "code",
   "execution_count": null,
   "metadata": {},
   "outputs": [],
   "source": [
    " \n",
    "\n",
    "# Je mesure la qualité de ma prédiction\n",
    "print(\"Resultats SVC\")\n",
    "\n",
    "print(\"\\n\")\n",
    "print(\"Resultats régression logistique\")\n",
    "from sklearn.metrics import classification_report\n",
    "\n",
    "print(classification_report(titanic_train_data_survived, predicted_titanic_train_data_survived))\n",
    "\n"
   ]
  },
  {
   "source": [
    "## utilisation d'un autre modele pour prédire\n",
    "\n",
    "# prediction en utilisant une classification aléatoire"
   ],
   "cell_type": "markdown",
   "metadata": {}
  },
  {
   "cell_type": "code",
   "execution_count": null,
   "metadata": {},
   "outputs": [],
   "source": [
    "\n",
    "from sklearn.ensemble import RandomForestClassifier\n",
    "\n",
    "y = titanic_train_data[\"Survived\"]\n",
    "\n",
    "features = [\"Pclass\", \"Sex\", \"SibSp\", \"Parch\"]\n",
    "X = pd.get_dummies(titanic_train_data[features])\n",
    "X_test = pd.get_dummies(titanic_test_data[features])\n",
    "\n",
    "model = RandomForestClassifier(n_estimators=100, max_depth=5, random_state=1)\n",
    "model.fit(X, y)\n",
    "predictions = model.predict(X_test)\n",
    "\n",
    "output = pd.DataFrame({'PassengerId' : titanic_test_data.PassengerId , 'Survived': predictions})\n",
    "output = pd.DataFrame({'Name' : titanic_test_data.Name , 'Survived': predictions})\n",
    "\n",
    "print(\"Resultats classification aléatoire\")\n",
    "\n",
    "print(output)"
   ]
  },
  {
   "source": [
    "code pour montrer la survie en fonction du prix...\n",
    "mais il y a une petite errreur sur cette ligne.... toute fois en exécutant le code,\n",
    "on obtient bien le graphe montrant la survie en fonction du prix"
   ],
   "cell_type": "markdown",
   "metadata": {}
  },
  {
   "source": [
    "# tracer la survie avec le prix\n"
   ],
   "cell_type": "markdown",
   "metadata": {}
  },
  {
   "source": [
    "\n",
    "\n",
    "plt.figure(figsize=(10, 10),dpi=80)\n",
    "\n",
    "\n",
    "survived_fare = titanic_train_data[titanic_train_data['Survived'] == 1]['Fare']\n",
    "dead_fare = titanic_train_data[titanic_train_data['Survived'] == 0]['Fare']\n",
    "\n",
    "\n",
    "plt.hist([survived_fare, dead_fare], bins=50, stacked=True,\n",
    "         rwidth=0.8, color=['green', 'red'], label=['Survived', 'Dead'])\n",
    "\n",
    "plt.xlabel('Tarif')\n",
    "plt.ylabel('Nombre de passagers')\n",
    "\n",
    "plt.axes([0, 550, 0, 350])\n",
    "plt.grid()\n",
    "# je sais pas ce que tu as voulu faire avec le legend :\n",
    "# plt.legend(True)\n",
    "plt.show()\n",
    "\n",
    "\n",
    "# cela montre que les personnes qui avaient réservé des billets à bas prix sont les plus décédées\n"
   ],
   "cell_type": "code",
   "metadata": {},
   "execution_count": null,
   "outputs": []
  },
  {
   "cell_type": "code",
   "execution_count": null,
   "metadata": {},
   "outputs": [],
   "source": []
  }
 ],
 "metadata": {
  "kernelspec": {
   "name": "python3",
   "display_name": "Python 3.8.3 64-bit",
   "metadata": {
    "interpreter": {
     "hash": "afc9c1412d8855b2b9a8a210a963c500654534e1a463077a12a1212800a90854"
    }
   }
  },
  "language_info": {
   "codemirror_mode": {
    "name": "ipython",
    "version": 3
   },
   "file_extension": ".py",
   "mimetype": "text/x-python",
   "name": "python",
   "nbconvert_exporter": "python",
   "pygments_lexer": "ipython3",
   "version": "3.8.3-final"
  }
 },
 "nbformat": 4,
 "nbformat_minor": 4
}